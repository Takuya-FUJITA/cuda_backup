{
 "cells": [
  {
   "cell_type": "code",
   "execution_count": 1,
   "metadata": {},
   "outputs": [],
   "source": [
    "import numpy as np\n",
    "import pandas as pd\n",
    "from matplotlib import pyplot as plt\n",
    "import my_pybursts\n",
    "# from pybursts import *\n",
    "\n",
    "%matplotlib inline"
   ]
  },
  {
   "cell_type": "code",
   "execution_count": 2,
   "metadata": {},
   "outputs": [],
   "source": [
    "date = \"6-25\"\n",
    "next_date = \"6-26\"\n",
    "\n",
    "param_s = 2\n",
    "param_gamma = 1"
   ]
  },
  {
   "cell_type": "code",
   "execution_count": 3,
   "metadata": {},
   "outputs": [],
   "source": [
    "openfile=\"./ms_time.csv\"\n",
    "# savefile=\"./data/2013-7-23_s=\"+str(param_s)+\"_gamma=\"+str(param_gamma)+\".npy\"\n",
    "# savefile=\"./data/2013-\"+date+\"_s=\"+str(param_s)+\"_gamma=\"+str(param_gamma)+\".npy\"\n",
    "savefigure=\"./data/burst_\"+date+\".png\"\n",
    "fig_lavel=\"All Tweets bursts\""
   ]
  },
  {
   "cell_type": "code",
   "execution_count": 4,
   "metadata": {},
   "outputs": [],
   "source": [
    "# 通常版表示\n",
    "df = pd.read_csv(openfile)"
   ]
  },
  {
   "cell_type": "code",
   "execution_count": 5,
   "metadata": {},
   "outputs": [],
   "source": [
    "df_zip = df\n",
    "df_zip.time = pd.to_datetime(df_zip.time)\n",
    "df_zip = df_zip.sort_index(axis=1, ascending=False)"
   ]
  },
  {
   "cell_type": "code",
   "execution_count": 6,
   "metadata": {},
   "outputs": [],
   "source": [
    "data = [pd.Timestamp(i).value for i in df.time]"
   ]
  },
  {
   "cell_type": "code",
   "execution_count": 7,
   "metadata": {},
   "outputs": [],
   "source": [
    "burst = my_pybursts.kleinberg(data,s=param_s,gamma=param_gamma)"
   ]
  },
  {
   "cell_type": "code",
   "execution_count": 8,
   "metadata": {},
   "outputs": [],
   "source": [
    "#np.save(savefile,burst)"
   ]
  },
  {
   "cell_type": "code",
   "execution_count": 9,
   "metadata": {},
   "outputs": [],
   "source": [
    "df_burst = pd.DataFrame(burst,columns=['Level','Start','End'])\n",
    "burst = []\n",
    "for i in range(len(df_burst)) :\n",
    "    if i!=0 :\n",
    "        temp_level = 0\n",
    "        next_time = df_burst['End'][i-1]+1\n",
    "        for j in range(int(len(df_burst))) :\n",
    "            if df_burst['Start'][j] < next_time and next_time < df_burst['End'][j] :\n",
    "                if temp_level < df_burst['Level'][j] :\n",
    "                    temp_level = df_burst['Level'][j]\n",
    "        burst.append([pd.to_datetime(df_burst['End'][i-1]+1),temp_level])\n",
    "        burst.append([pd.to_datetime(df_burst['Start'][i]-1),temp_level])\n",
    "    burst.append([pd.to_datetime(df_burst['Start'][i]),df_burst['Level'][i]])\n",
    "    burst.append([pd.to_datetime(df_burst['End'][i]),df_burst['Level'][i]])\n",
    "df_burst = pd.DataFrame(burst,columns=['time',fig_lavel])"
   ]
  },
  {
   "cell_type": "code",
   "execution_count": 10,
   "metadata": {},
   "outputs": [
    {
     "data": {
      "image/png": "[encoded data removed]",
      "text/plain": [
       "<Figure size 432x288 with 1 Axes>"
      ]
     },
     "metadata": {},
     "output_type": "display_data"
    }
   ],
   "source": [
    "df_burst = df_burst.set_index('time')\n",
    "df_burst.plot(drawstyle='steps-post')\n",
    "plt.grid()\n",
    "plt.ylim([0,3.5])\n",
    "plt.gca().yaxis.set_major_locator(plt.MaxNLocator(integer=True))\n",
    "# plt.xlim(pd.Timestamp('2013-7-23 00:00:00'),pd.Timestamp('2013-7-24 00:00:00'))\n",
    "plt.xlim(pd.Timestamp('2013-'+date+' 00:00:00'),pd.Timestamp('2013-'+next_date+' 00:00:00'))\n",
    "#plt.show()\n",
    "#plt.savefig(savefig)\n",
    "plt.savefig(savefigure)"
   ]
  }
 ],
 "metadata": {
  "kernelspec": {
   "display_name": "Python 3",
   "language": "python",
   "name": "python3"
  },
  "language_info": {
   "codemirror_mode": {
    "name": "ipython",
    "version": 3
   },
   "file_extension": ".py",
   "mimetype": "text/x-python",
   "name": "python",
   "nbconvert_exporter": "python",
   "pygments_lexer": "ipython3",
   "version": "3.6.5"
  }
 },
 "nbformat": 4,
 "nbformat_minor": 2
}
